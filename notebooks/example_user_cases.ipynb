{
 "cells": [
  {
   "cell_type": "code",
   "execution_count": 1,
   "metadata": {},
   "outputs": [],
   "source": [
    "import numpy as np"
   ]
  },
  {
   "cell_type": "code",
   "execution_count": 15,
   "metadata": {},
   "outputs": [],
   "source": [
    "np.savez('../data/UserCase-One.npz',\n",
    "         prior_probabilities=np.array([0.67, 0.33]),\n",
    "         transition_probabilities=np.array([[0.8, 0.2], \n",
    "                                         [0.4, 0.6]]) ,\n",
    "         emission_probabilities=np.array([[0.8, 0.2],\n",
    "                                       [0.4, 0.6]]),\n",
    "         observation_states=np.array(['on-time', 'on-time', 'late', 'late', 'late', 'on-time']),\n",
    "         hidden_states=np.array(['no-traffic','no-traffic', 'traffic', 'traffic', 'traffic', 'no-traffic']))"
   ]
  },
  {
   "cell_type": "code",
   "execution_count": 3,
   "metadata": {},
   "outputs": [],
   "source": [
    "np.savez('../data/UserCase-Lecture.npz',\n",
    "         prior_probabilities=np.array([0.67, 0.33]),\n",
    "         transition_probabilities=np.array([[0.8, 0.2], \n",
    "                                         [0.4, 0.6]]) ,\n",
    "         emission_probabilities=np.array([[0.8, 0.2],\n",
    "                                       [0.4, 0.6]]),\n",
    "         observation_states=np.array(['committed', 'committed', 'ambivalent', 'ambivalent', 'ambivalent', 'committed']),\n",
    "         hidden_states=np.array(['R01','R01', 'R21', 'R21', 'R21', 'R01']))"
   ]
  },
  {
   "cell_type": "markdown",
   "metadata": {},
   "source": []
  },
  {
   "cell_type": "code",
   "execution_count": null,
   "metadata": {},
   "outputs": [],
   "source": []
  },
  {
   "cell_type": "code",
   "execution_count": 10,
   "metadata": {},
   "outputs": [],
   "source": []
  },
  {
   "cell_type": "code",
   "execution_count": 7,
   "metadata": {},
   "outputs": [],
   "source": []
  },
  {
   "cell_type": "code",
   "execution_count": null,
   "metadata": {},
   "outputs": [],
   "source": [
    "\n"
   ]
  },
  {
   "cell_type": "code",
   "execution_count": null,
   "metadata": {},
   "outputs": [],
   "source": []
  }
 ],
 "metadata": {
  "kernelspec": {
   "display_name": "Python 3 (ipykernel)",
   "language": "python",
   "name": "python3"
  },
  "language_info": {
   "codemirror_mode": {
    "name": "ipython",
    "version": 3
   },
   "file_extension": ".py",
   "mimetype": "text/x-python",
   "name": "python",
   "nbconvert_exporter": "python",
   "pygments_lexer": "ipython3",
   "version": "3.9.12"
  }
 },
 "nbformat": 4,
 "nbformat_minor": 4
}
