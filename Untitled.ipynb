{
 "cells": [
  {
   "cell_type": "code",
   "execution_count": 233,
   "id": "2375bfdd-b0f8-4cc1-868b-1e55c0ed530d",
   "metadata": {},
   "outputs": [],
   "source": [
    "import pytest\n",
    "import numpy as np\n",
    "from src.models.hmm import HiddenMarkovModel\n",
    "from src.models.decoders import ViterbiAlgorithm"
   ]
  },
  {
   "cell_type": "code",
   "execution_count": 5,
   "id": "ece06ce6-df48-4849-bd38-3d9a117d13c9",
   "metadata": {},
   "outputs": [],
   "source": [
    "observation_states = ['on-time','late']\n",
    "hidden_states = ['no-traffic','traffic']"
   ]
  },
  {
   "cell_type": "code",
   "execution_count": 7,
   "id": "7d82a618-c129-4775-a731-266d7dfa19ef",
   "metadata": {},
   "outputs": [],
   "source": [
    "use_case_one_data = np.load('./data/UserCase-One.npz')"
   ]
  },
  {
   "cell_type": "code",
   "execution_count": 11,
   "id": "c686bf19-3a92-484a-b5aa-539c5dc2fbe9",
   "metadata": {},
   "outputs": [],
   "source": [
    "hmm = HiddenMarkovModel(observation_states,\n",
    "                                         hidden_states,\n",
    "                      use_case_one_data['prior_probabilities'], # prior probabilities of hidden states in the order specified in the hidden_states list\n",
    "                      use_case_one_data['transition_probabilities'], # transition_probabilities[:,hidden_states[i]]\n",
    "                      use_case_one_data['emission_probabilities']) # emission_probabilities[hidden_states[i],:][:,observation_states[j]]"
   ]
  },
  {
   "cell_type": "code",
   "execution_count": 195,
   "id": "869eb726-0746-4c02-91ce-17947e80dde1",
   "metadata": {},
   "outputs": [
    {
     "data": {
      "text/plain": [
       "array([[0.8, 0.2],\n",
       "       [0.4, 0.6]])"
      ]
     },
     "execution_count": 195,
     "metadata": {},
     "output_type": "execute_result"
    }
   ],
   "source": [
    "hmm.transition_probabilities"
   ]
  },
  {
   "cell_type": "code",
   "execution_count": 49,
   "id": "2b3e2c8f-84cd-4d6f-8ed6-61e0191685d7",
   "metadata": {},
   "outputs": [
    {
     "data": {
      "text/plain": [
       "['on-time', 'late']"
      ]
     },
     "execution_count": 49,
     "metadata": {},
     "output_type": "execute_result"
    }
   ],
   "source": [
    "hmm.observation_states"
   ]
  },
  {
   "cell_type": "code",
   "execution_count": 194,
   "id": "82516ddc-a350-42e7-8c93-94d984255ed5",
   "metadata": {},
   "outputs": [
    {
     "data": {
      "text/plain": [
       "array([[0.8, 0.2],\n",
       "       [0.4, 0.6]])"
      ]
     },
     "execution_count": 194,
     "metadata": {},
     "output_type": "execute_result"
    }
   ],
   "source": [
    "hmm.emission_probabilities"
   ]
  },
  {
   "cell_type": "code",
   "execution_count": 310,
   "id": "5d5529ef-ca34-4da7-bff1-a4b19f16e1bc",
   "metadata": {},
   "outputs": [],
   "source": [
    "hidden_states = ['A','B']\n",
    "observation_states = ['H','L']\n",
    "prior_probability = np.array([0.9, 0.1])\n",
    "transition_probabilities = np.array([[0.1,0.9],[0.2,0.8]])\n",
    "emission_probabilities = np.array([[0.1,0.9],[0.2,0.8]])\n",
    "hmm = HiddenMarkovModel(observation_states,\n",
    "                                         hidden_states, prior_probability, transition_probabilities, emission_probabilities)\n",
    "\n",
    "viterbi = ViterbiAlgorithm(hmm)\n",
    "best = viterbi.best_hidden_state_sequence(['H','H','H','H'])\n",
    "np.alltrue(best==np.array(['A', 'B', 'B', 'B']))"
   ]
  },
  {
   "cell_type": "code",
   "execution_count": 318,
   "id": "9cdba6b8-2fb7-4141-9321-54e22bc5e163",
   "metadata": {},
   "outputs": [
    {
     "data": {
      "text/plain": [
       "True"
      ]
     },
     "execution_count": 318,
     "metadata": {},
     "output_type": "execute_result"
    }
   ],
   "source": []
  },
  {
   "cell_type": "code",
   "execution_count": 145,
   "id": "cf8744f7-9f9d-435e-aa9b-3da7c7e976c8",
   "metadata": {},
   "outputs": [
    {
     "data": {
      "text/plain": [
       "array([0.57142857, 0.42857143])"
      ]
     },
     "execution_count": 145,
     "metadata": {},
     "output_type": "execute_result"
    }
   ],
   "source": [
    "delta"
   ]
  },
  {
   "cell_type": "code",
   "execution_count": 139,
   "id": "e519ec25-a1e5-43f4-a9a4-b374c4f85ecd",
   "metadata": {},
   "outputs": [],
   "source": []
  },
  {
   "cell_type": "code",
   "execution_count": 140,
   "id": "0629c038-061b-44a4-8701-1b3b8d43b9ed",
   "metadata": {},
   "outputs": [
    {
     "data": {
      "text/plain": [
       "array([[1., 0.],\n",
       "       [0., 0.],\n",
       "       [0., 0.],\n",
       "       [0., 0.],\n",
       "       [0., 0.],\n",
       "       [0., 0.]])"
      ]
     },
     "execution_count": 140,
     "metadata": {},
     "output_type": "execute_result"
    }
   ],
   "source": [
    "path"
   ]
  },
  {
   "cell_type": "code",
   "execution_count": 64,
   "id": "cbb8a3b2-6997-478b-a8ec-aa3ecd9e07b4",
   "metadata": {},
   "outputs": [
    {
     "data": {
      "text/plain": [
       "array(['on-time', 'on-time', 'late', 'late', 'late', 'on-time'],\n",
       "      dtype='<U7')"
      ]
     },
     "execution_count": 64,
     "metadata": {},
     "output_type": "execute_result"
    }
   ],
   "source": [
    "use_case_one_data['observation_states']"
   ]
  },
  {
   "cell_type": "code",
   "execution_count": 155,
   "id": "d2564901-8a29-4590-bc46-c3487950b57c",
   "metadata": {},
   "outputs": [
    {
     "data": {
      "text/plain": [
       "array([0.8, 0.4])"
      ]
     },
     "execution_count": 155,
     "metadata": {},
     "output_type": "execute_result"
    }
   ],
   "source": [
    "hmm.emission_probabilities[:,state_0]"
   ]
  },
  {
   "cell_type": "code",
   "execution_count": 157,
   "id": "d6fd822a-9742-4f05-97ed-718c6ae86123",
   "metadata": {},
   "outputs": [
    {
     "data": {
      "text/plain": [
       "array([[0.8, 0.2],\n",
       "       [0.4, 0.6]])"
      ]
     },
     "execution_count": 157,
     "metadata": {},
     "output_type": "execute_result"
    }
   ],
   "source": [
    "hmm.emission_probabilities"
   ]
  },
  {
   "cell_type": "code",
   "execution_count": 154,
   "id": "134a4182-8015-4ee4-a2a6-a5dbaaa37634",
   "metadata": {},
   "outputs": [
    {
     "data": {
      "text/plain": [
       "array([0.67, 0.33])"
      ]
     },
     "execution_count": 154,
     "metadata": {},
     "output_type": "execute_result"
    }
   ],
   "source": [
    "hmm.prior_probabilities"
   ]
  },
  {
   "cell_type": "code",
   "execution_count": 159,
   "id": "62622961-fc64-4ed3-9fea-186f79ee5f2a",
   "metadata": {},
   "outputs": [
    {
     "data": {
      "text/plain": [
       "array([0.31661238, 0.47491857])"
      ]
     },
     "execution_count": 159,
     "metadata": {},
     "output_type": "execute_result"
    }
   ],
   "source": [
    "max_prob"
   ]
  },
  {
   "cell_type": "code",
   "execution_count": 158,
   "id": "6b03cf1a-ace9-4ef4-b082-f1d9a91a6365",
   "metadata": {},
   "outputs": [
    {
     "data": {
      "text/plain": [
       "6"
      ]
     },
     "execution_count": 158,
     "metadata": {},
     "output_type": "execute_result"
    }
   ],
   "source": [
    "len(use_case_one_data['observation_states'])"
   ]
  },
  {
   "cell_type": "code",
   "execution_count": 227,
   "id": "9052fc36-4577-4d07-90f7-40d79a90474e",
   "metadata": {},
   "outputs": [],
   "source": [
    "path = np.zeros((len(use_case_one_data['observation_states']), \n",
    "                         len(hmm.hidden_states)))\n",
    "state_0 = hmm.observation_states_dict[use_case_one_data['observation_states'][0]]\n",
    "delta = np.multiply(hmm.prior_probabilities, hmm.emission_probabilities[:,state_0])\n",
    "#print(delta)\n",
    "delta = delta / np.sum(delta)\n",
    "path[0,:] = [hidden_state_index for hidden_state_index in range(len(hmm.hidden_states))]\n",
    "#path[0,np.argmax(delta)] = 1\n",
    "\n",
    "best_path = np.zeros((len(use_case_one_data['observation_states']), \n",
    "                         len(hmm.hidden_states)))\n",
    "\n",
    "\n",
    "for trellis_node in range(1, len(use_case_one_data['observation_states'])):\n",
    "    product_of_delta_and_transition_emission =  np.multiply(delta, hmm.transition_probabilities.transpose())\n",
    "    #print(product_of_delta_and_transition_emission.transpose())\n",
    "    max_pointer = np.argmax(product_of_delta_and_transition_emission.transpose(), axis = 0)\n",
    "    max_prob = np.max(product_of_delta_and_transition_emission.transpose(), axis = 0)\n",
    "    \n",
    "    state = hmm.observation_states_dict[use_case_one_data['observation_states'][trellis_node]]\n",
    "    path[trellis_node,:] = max_pointer\n",
    "    delta = np.multiply(max_prob,hmm.emission_probabilities[:,state])\n",
    "    delta = delta / np.sum(delta)\n",
    "    \n",
    "    high_prob = np.argmax(delta)\n",
    "    \n",
    "    for hidden_state in range(len(hmm.hidden_states)):\n",
    "        if hidden_state == max_pointer[np.argmax(delta)]:\n",
    "            best_path[trellis_node-1, hidden_state] = 1\n",
    "        else:\n",
    "            best_path[trellis_node-1, hidden_state] = 0\n",
    "        \n",
    "    path = best_path.copy()\n"
   ]
  },
  {
   "cell_type": "code",
   "execution_count": 231,
   "id": "5af1ca71-cd63-40f5-a654-a855c34b1486",
   "metadata": {},
   "outputs": [],
   "source": [
    "for hidden_state in range(len(hmm.hidden_states)):\n",
    "    if hidden_state == np.argmax(delta):\n",
    "        best_path[-1, hidden_state] = 1\n",
    "    else:\n",
    "        best_path[-1, hidden_state] = 0\n",
    "\n",
    "\n",
    "decode_hidden = []\n",
    "for node in range(0,len(use_case_one_data['observation_states'])):\n",
    "    idx = np.argmax(best_path[node,:])\n",
    "    decode_hidden.append(hmm.hidden_states_dict[idx])\n",
    "best_hidden_state_path = np.array(decode_hidden)\n"
   ]
  },
  {
   "cell_type": "code",
   "execution_count": 232,
   "id": "30422689-7ec8-4150-b81c-080cde515ab0",
   "metadata": {},
   "outputs": [
    {
     "data": {
      "text/plain": [
       "array(['no-traffic', 'no-traffic', 'traffic', 'traffic', 'traffic',\n",
       "       'no-traffic'], dtype='<U10')"
      ]
     },
     "execution_count": 232,
     "metadata": {},
     "output_type": "execute_result"
    }
   ],
   "source": [
    "best_hidden_state_path"
   ]
  },
  {
   "cell_type": "code",
   "execution_count": 101,
   "id": "566458b7-4b39-4b88-b150-ed05601ba465",
   "metadata": {},
   "outputs": [],
   "source": [
    "probs = max_prob*hmm.emission_probabilities[:,state]"
   ]
  },
  {
   "cell_type": "code",
   "execution_count": 207,
   "id": "364d6e1f-df63-48dc-a24e-d7d47dc72695",
   "metadata": {},
   "outputs": [
    {
     "data": {
      "text/plain": [
       "array([0.57142857, 0.42857143])"
      ]
     },
     "execution_count": 207,
     "metadata": {},
     "output_type": "execute_result"
    }
   ],
   "source": [
    "delta"
   ]
  },
  {
   "cell_type": "code",
   "execution_count": 176,
   "id": "74273e7f-c1ed-4695-ae1b-45f801ad68d1",
   "metadata": {},
   "outputs": [
    {
     "data": {
      "text/plain": [
       "array(['no-traffic', 'no-traffic', 'traffic', 'traffic', 'traffic',\n",
       "       'on-time'], dtype='<U10')"
      ]
     },
     "execution_count": 176,
     "metadata": {},
     "output_type": "execute_result"
    }
   ],
   "source": [
    "use_case_one_data['hidden_states']"
   ]
  },
  {
   "cell_type": "code",
   "execution_count": 127,
   "id": "98c1d062-b1c2-44a2-9381-44ebb9459515",
   "metadata": {},
   "outputs": [
    {
     "data": {
      "text/plain": [
       "array(['on-time', 'on-time', 'late', 'late', 'late', 'on-time'],\n",
       "      dtype='<U7')"
      ]
     },
     "execution_count": 127,
     "metadata": {},
     "output_type": "execute_result"
    }
   ],
   "source": [
    "use_case_one_data['observation_states']"
   ]
  },
  {
   "cell_type": "code",
   "execution_count": 42,
   "id": "9691fa95-088d-419e-84c7-9d0466393796",
   "metadata": {},
   "outputs": [
    {
     "data": {
      "text/plain": [
       "0"
      ]
     },
     "execution_count": 42,
     "metadata": {},
     "output_type": "execute_result"
    }
   ],
   "source": []
  },
  {
   "cell_type": "code",
   "execution_count": 33,
   "id": "68410f7b-42e5-4284-b0c3-df45b2cc2b1b",
   "metadata": {},
   "outputs": [
    {
     "data": {
      "text/plain": [
       "'on-time'"
      ]
     },
     "execution_count": 33,
     "metadata": {},
     "output_type": "execute_result"
    }
   ],
   "source": []
  },
  {
   "cell_type": "code",
   "execution_count": 41,
   "id": "0cc08039-1603-41ee-9f93-4ff45a63e4f1",
   "metadata": {},
   "outputs": [
    {
     "data": {
      "text/plain": [
       "{'on-time': 0, 'late': 1}"
      ]
     },
     "execution_count": 41,
     "metadata": {},
     "output_type": "execute_result"
    }
   ],
   "source": []
  },
  {
   "cell_type": "code",
   "execution_count": 37,
   "id": "aed36b26-2294-47f1-aec8-b9338729edf0",
   "metadata": {},
   "outputs": [
    {
     "name": "stdout",
     "output_type": "stream",
     "text": [
      "0\n",
      "1\n"
     ]
    }
   ],
   "source": []
  },
  {
   "cell_type": "code",
   "execution_count": 65,
   "id": "a5ce4e69-8907-4142-b2a2-3b1c5f1417c5",
   "metadata": {},
   "outputs": [
    {
     "data": {
      "text/plain": [
       "array([0., 0.])"
      ]
     },
     "execution_count": 65,
     "metadata": {},
     "output_type": "execute_result"
    }
   ],
   "source": [
    "path[0,:]"
   ]
  },
  {
   "cell_type": "code",
   "execution_count": 260,
   "id": "21110c73-4571-4eaa-94e4-1f240c09c0c3",
   "metadata": {},
   "outputs": [],
   "source": [
    "prog_cm_data = np.load('./data/ProjectDeliverable-ProgenitorCMs.npz')\n",
    "observation_states = ['regulatory', 'regulatory-potential']\n",
    "hidden_states = ['encode-atac', 'atac']"
   ]
  },
  {
   "cell_type": "code",
   "execution_count": 261,
   "id": "4edc0bbf-3f8d-4577-bcd5-5eb39d3d16ac",
   "metadata": {},
   "outputs": [],
   "source": [
    "prog_cm_hmm_object = HiddenMarkovModel(observation_states,\n",
    "                                           hidden_states,\n",
    "                                           prog_cm_data['prior_probabilities'], #  prior probabilities of hidden states in the order specified in the hidden_states list\n",
    "                                           prog_cm_data['transition_probabilities'], # transition_probabilities[:,hidden_states[i]]\n",
    "                                           prog_cm_data['emission_probabilities'])"
   ]
  },
  {
   "cell_type": "code",
   "execution_count": 243,
   "id": "2e105e31-a4ee-4117-a0e9-3d59b98312e0",
   "metadata": {},
   "outputs": [],
   "source": [
    "prog_cm_viterbi_instance = ViterbiAlgorithm(prog_cm_hmm_object)"
   ]
  },
  {
   "cell_type": "code",
   "execution_count": 244,
   "id": "e6556c16-851f-4249-b919-dfa2767c59fc",
   "metadata": {},
   "outputs": [],
   "source": [
    "evaluate_viterbi_decoder_using_observation_states_of_prog_cm = prog_cm_viterbi_instance.best_hidden_state_sequence(prog_cm_data['observation_states'])"
   ]
  },
  {
   "cell_type": "code",
   "execution_count": 245,
   "id": "400a7ecf-bf93-4ca3-8f65-46f6b75ff699",
   "metadata": {},
   "outputs": [
    {
     "data": {
      "text/plain": [
       "{0: 'encode-atac', 1: 'atac'}"
      ]
     },
     "execution_count": 245,
     "metadata": {},
     "output_type": "execute_result"
    }
   ],
   "source": [
    "prog_cm_hmm_object.hidden_states_dict"
   ]
  },
  {
   "cell_type": "code",
   "execution_count": 246,
   "id": "0cb3b7aa-e8b5-4be3-b8f2-3d0cfe32f2be",
   "metadata": {},
   "outputs": [
    {
     "data": {
      "text/plain": [
       "array(['encode-atac', 'atac', 'encode-atac', 'encode-atac', 'atac',\n",
       "       'encode-atac', 'atac', 'atac', 'atac', 'encode-atac'], dtype='<U11')"
      ]
     },
     "execution_count": 246,
     "metadata": {},
     "output_type": "execute_result"
    }
   ],
   "source": [
    "evaluate_viterbi_decoder_using_observation_states_of_prog_cm"
   ]
  },
  {
   "cell_type": "code",
   "execution_count": 250,
   "id": "72ba7aea-683f-475e-9d3b-be840b88343e",
   "metadata": {},
   "outputs": [
    {
     "data": {
      "text/plain": [
       "array(['atac', 'encode-atac', 'encode-atac', 'atac', 'atac',\n",
       "       'encode-atac', 'encode-atac', 'encode-atac', 'encode-atac',\n",
       "       'encode-atac'], dtype='<U11')"
      ]
     },
     "execution_count": 250,
     "metadata": {},
     "output_type": "execute_result"
    }
   ],
   "source": [
    "prog_cm_data['hidden_states']"
   ]
  },
  {
   "cell_type": "code",
   "execution_count": 251,
   "id": "bf93de82-a710-4abb-b00a-647ee8b1cff8",
   "metadata": {},
   "outputs": [
    {
     "data": {
      "text/plain": [
       "array([0.5, 0.5])"
      ]
     },
     "execution_count": 251,
     "metadata": {},
     "output_type": "execute_result"
    }
   ],
   "source": [
    "prog_cm_hmm_object.prior_probabilities"
   ]
  },
  {
   "cell_type": "code",
   "execution_count": 252,
   "id": "2fed6a06-1cac-4b02-8bb3-cc39551c2cbb",
   "metadata": {},
   "outputs": [
    {
     "data": {
      "text/plain": [
       "array([[0.4, 0.6],\n",
       "       [0.5, 0.5]])"
      ]
     },
     "execution_count": 252,
     "metadata": {},
     "output_type": "execute_result"
    }
   ],
   "source": [
    "prog_cm_hmm_object.transition_probabilities"
   ]
  },
  {
   "cell_type": "code",
   "execution_count": 253,
   "id": "ca11cc90-8b92-45d7-9063-9c00d41b9733",
   "metadata": {},
   "outputs": [
    {
     "data": {
      "text/plain": [
       "array([[0.6, 0.4],\n",
       "       [0.8, 0.2]])"
      ]
     },
     "execution_count": 253,
     "metadata": {},
     "output_type": "execute_result"
    }
   ],
   "source": [
    "prog_cm_hmm_object.emission_probabilities"
   ]
  },
  {
   "cell_type": "code",
   "execution_count": 297,
   "id": "29e48a05-2425-4c21-9d95-a3676b6587cb",
   "metadata": {},
   "outputs": [
    {
     "data": {
      "text/plain": [
       "{'regulatory': 0, 'regulatory-potential': 1}"
      ]
     },
     "execution_count": 297,
     "metadata": {},
     "output_type": "execute_result"
    }
   ],
   "source": [
    "prog_cm_hmm_object.observation_states_dict"
   ]
  },
  {
   "cell_type": "code",
   "execution_count": 255,
   "id": "96ae7176-16fb-4d4a-9f9a-46e213506dad",
   "metadata": {},
   "outputs": [],
   "source": [
    "    prim_cm_data = np.load('./data/ProjectDeliverable-PrimitiveCMs.npz')\n",
    "\n",
    "    # Instantiate submodule class models.ViterbiAlgorithm with the progenitor cardiomyocyte's HMM\n",
    "    prim_cm_viterbi_instance = ViterbiAlgorithm(prog_cm_hmm_object)\n",
    "\n",
    "    # Decode the hidden states of the primitive cardiomyocyte's regulatory observation states\n",
    "    decoded_hidden_states_for_observed_states_of_prim_cm = prim_cm_viterbi_instance.best_hidden_state_sequence(prim_cm_data['observation_states'])\n",
    "    "
   ]
  },
  {
   "cell_type": "code",
   "execution_count": 256,
   "id": "a4c744fb-e8d2-438d-924d-54c5b49c691e",
   "metadata": {},
   "outputs": [
    {
     "data": {
      "text/plain": [
       "0.4"
      ]
     },
     "execution_count": 256,
     "metadata": {},
     "output_type": "execute_result"
    }
   ],
   "source": [
    "np.sum(prim_cm_data['hidden_states'] == decoded_hidden_states_for_observed_states_of_prim_cm)/len(prim_cm_data['observation_states'])"
   ]
  },
  {
   "cell_type": "code",
   "execution_count": 257,
   "id": "61b1de5b-9957-4c89-b179-aade2695fa3e",
   "metadata": {},
   "outputs": [
    {
     "data": {
      "text/plain": [
       "array(['atac', 'encode-atac', 'encode-atac', 'atac', 'atac',\n",
       "       'encode-atac', 'encode-atac', 'encode-atac', 'encode-atac',\n",
       "       'encode-atac'], dtype='<U11')"
      ]
     },
     "execution_count": 257,
     "metadata": {},
     "output_type": "execute_result"
    }
   ],
   "source": [
    "prim_cm_data['hidden_states']"
   ]
  },
  {
   "cell_type": "code",
   "execution_count": 269,
   "id": "eb19972c-b726-4f69-923f-42a1d2b2b26c",
   "metadata": {},
   "outputs": [
    {
     "data": {
      "text/plain": [
       "array(['encode-atac', 'atac', 'encode-atac', 'encode-atac', 'atac',\n",
       "       'encode-atac', 'atac', 'atac', 'atac', 'encode-atac'], dtype='<U11')"
      ]
     },
     "execution_count": 269,
     "metadata": {},
     "output_type": "execute_result"
    }
   ],
   "source": [
    "decoded_hidden_states_for_observed_states_of_prim_cm"
   ]
  },
  {
   "cell_type": "code",
   "execution_count": 259,
   "id": "1bfcef49-14d4-4bdb-affa-dfcffabce467",
   "metadata": {},
   "outputs": [
    {
     "ename": "NameError",
     "evalue": "name 'proj_cm_data' is not defined",
     "output_type": "error",
     "traceback": [
      "\u001b[0;31m---------------------------------------------------------------------------\u001b[0m",
      "\u001b[0;31mNameError\u001b[0m                                 Traceback (most recent call last)",
      "Input \u001b[0;32mIn [259]\u001b[0m, in \u001b[0;36m<cell line: 1>\u001b[0;34m()\u001b[0m\n\u001b[0;32m----> 1\u001b[0m \u001b[43mproj_cm_data\u001b[49m[\u001b[38;5;124m'\u001b[39m\u001b[38;5;124mhidden_states\u001b[39m\u001b[38;5;124m'\u001b[39m]\n",
      "\u001b[0;31mNameError\u001b[0m: name 'proj_cm_data' is not defined"
     ]
    }
   ],
   "source": [
    "proj_cm_d['hidden_states']"
   ]
  },
  {
   "cell_type": "code",
   "execution_count": 267,
   "id": "4750af2c-6a4e-47e4-9a8e-26a3eda97b78",
   "metadata": {},
   "outputs": [
    {
     "data": {
      "text/plain": [
       "array(['atac', 'encode-atac', 'encode-atac', 'atac', 'atac',\n",
       "       'encode-atac', 'encode-atac', 'encode-atac', 'encode-atac',\n",
       "       'encode-atac'], dtype='<U11')"
      ]
     },
     "execution_count": 267,
     "metadata": {},
     "output_type": "execute_result"
    }
   ],
   "source": [
    "prog_cm_data['hidden_states']"
   ]
  },
  {
   "cell_type": "code",
   "execution_count": 268,
   "id": "4deb0f8a-617b-402c-b09a-dc652cf8bf83",
   "metadata": {},
   "outputs": [
    {
     "data": {
      "text/plain": [
       "array(['atac', 'encode-atac', 'encode-atac', 'atac', 'atac',\n",
       "       'encode-atac', 'encode-atac', 'encode-atac', 'encode-atac',\n",
       "       'encode-atac'], dtype='<U11')"
      ]
     },
     "execution_count": 268,
     "metadata": {},
     "output_type": "execute_result"
    }
   ],
   "source": [
    "prim_cm_data['hidden_states']"
   ]
  },
  {
   "cell_type": "code",
   "execution_count": 296,
   "id": "1f5990e1-5306-4d57-8689-dac57228039e",
   "metadata": {},
   "outputs": [
    {
     "name": "stdout",
     "output_type": "stream",
     "text": [
      "[[0.17142857 0.25714286]\n",
      " [0.28571429 0.28571429]]\n",
      "[[0.26666667 0.4       ]\n",
      " [0.16666667 0.16666667]]\n",
      "[[0.22857143 0.34285714]\n",
      " [0.21428571 0.21428571]]\n",
      "[[0.22857143 0.34285714]\n",
      " [0.21428571 0.21428571]]\n",
      "[[0.13333333 0.2       ]\n",
      " [0.33333333 0.33333333]]\n",
      "[[0.26666667 0.4       ]\n",
      " [0.16666667 0.16666667]]\n",
      "[[0.13333333 0.2       ]\n",
      " [0.33333333 0.33333333]]\n",
      "[[0.17142857 0.25714286]\n",
      " [0.28571429 0.28571429]]\n",
      "[[0.17142857 0.25714286]\n",
      " [0.28571429 0.28571429]]\n"
     ]
    }
   ],
   "source": [
    "use_case_one_data = prog_cm_data\n",
    "hmm = prog_cm_hmm_object\n",
    "\n",
    "\n",
    "path = np.zeros((len(use_case_one_data['observation_states']), \n",
    "                         len(hmm.hidden_states)))\n",
    "state_0 = hmm.observation_states_dict[use_case_one_data['observation_states'][0]]\n",
    "delta = np.multiply(hmm.prior_probabilities, hmm.emission_probabilities[:,state_0])\n",
    "#print(delta)\n",
    "delta = delta / np.sum(delta)\n",
    "path[0,:] = [hidden_state_index for hidden_state_index in range(len(hmm.hidden_states))]\n",
    "#path[0,np.argmax(delta)] = 1\n",
    "\n",
    "best_path = np.zeros((len(use_case_one_data['observation_states']), \n",
    "                         len(hmm.hidden_states)))\n",
    "\n",
    "\n",
    "for trellis_node in range(1, len(use_case_one_data['observation_states'])):\n",
    "    product_of_delta_and_transition_emission =  np.multiply(delta, hmm.transition_probabilities.transpose())\n",
    "    print(product_of_delta_and_transition_emission.transpose())\n",
    "    max_pointer = np.argmax(product_of_delta_and_transition_emission.transpose(), axis = 0)\n",
    "    max_prob = np.max(product_of_delta_and_transition_emission.transpose(), axis = 0)\n",
    "    #print(max_prob)\n",
    "    \n",
    "    state = hmm.observation_states_dict[use_case_one_data['observation_states'][trellis_node]]\n",
    "    path[trellis_node,:] = max_pointer\n",
    "    delta = np.multiply(max_prob,hmm.emission_probabilities[:,state])\n",
    "    delta = delta / np.sum(delta)\n",
    "    #print(delta)\n",
    "    \n",
    "    high_prob = np.argmax(delta)\n",
    "    \n",
    "    for hidden_state in range(len(hmm.hidden_states)):\n",
    "        if hidden_state == max_pointer[np.argmax(delta)]:\n",
    "            best_path[trellis_node-1, hidden_state] = 1\n",
    "        else:\n",
    "            best_path[trellis_node-1, hidden_state] = 0\n",
    "        \n",
    "    # path = best_path.copy()"
   ]
  },
  {
   "cell_type": "code",
   "execution_count": 294,
   "id": "af81464f-8f85-4d98-a9fc-f80bb1824287",
   "metadata": {},
   "outputs": [
    {
     "data": {
      "text/plain": [
       "array([[0., 1.],\n",
       "       [1., 1.],\n",
       "       [0., 0.],\n",
       "       [0., 0.],\n",
       "       [0., 0.],\n",
       "       [1., 1.],\n",
       "       [0., 0.],\n",
       "       [1., 1.],\n",
       "       [1., 1.],\n",
       "       [1., 1.]])"
      ]
     },
     "execution_count": 294,
     "metadata": {},
     "output_type": "execute_result"
    }
   ],
   "source": [
    "path"
   ]
  },
  {
   "cell_type": "code",
   "execution_count": 286,
   "id": "bd672251-2111-4524-b385-d4be69a23347",
   "metadata": {},
   "outputs": [
    {
     "data": {
      "text/plain": [
       "array([0.66666667, 0.33333333])"
      ]
     },
     "execution_count": 286,
     "metadata": {},
     "output_type": "execute_result"
    }
   ],
   "source": [
    "delta"
   ]
  },
  {
   "cell_type": "code",
   "execution_count": 276,
   "id": "5ff93431-5ded-489e-af40-4f78f033fe17",
   "metadata": {},
   "outputs": [
    {
     "data": {
      "text/plain": [
       "array([[0.6, 0.4],\n",
       "       [0.8, 0.2]])"
      ]
     },
     "execution_count": 276,
     "metadata": {},
     "output_type": "execute_result"
    }
   ],
   "source": [
    "hmm.emission_probabilities"
   ]
  },
  {
   "cell_type": "code",
   "execution_count": 280,
   "id": "f7f9f41e-48aa-4c3d-8616-f0fcc331daf4",
   "metadata": {},
   "outputs": [
    {
     "data": {
      "text/plain": [
       "{0: 'encode-atac', 1: 'atac'}"
      ]
     },
     "execution_count": 280,
     "metadata": {},
     "output_type": "execute_result"
    }
   ],
   "source": [
    "hmm.hidden_states_dict"
   ]
  },
  {
   "cell_type": "code",
   "execution_count": null,
   "id": "3e12c8ba-81ae-40ef-8772-24a0de13f221",
   "metadata": {},
   "outputs": [],
   "source": [
    "encode,atac,encode,encode,encode,atac,encode,atac,atac,encode"
   ]
  },
  {
   "cell_type": "code",
   "execution_count": 289,
   "id": "80618232-47cd-43e0-8ab8-265b9e655fb1",
   "metadata": {},
   "outputs": [
    {
     "data": {
      "text/plain": [
       "array(['atac', 'encode-atac', 'encode-atac', 'atac', 'atac',\n",
       "       'encode-atac', 'encode-atac', 'encode-atac', 'encode-atac',\n",
       "       'encode-atac'], dtype='<U11')"
      ]
     },
     "execution_count": 289,
     "metadata": {},
     "output_type": "execute_result"
    }
   ],
   "source": [
    "prog_cm_data['hidden_states']"
   ]
  },
  {
   "cell_type": "code",
   "execution_count": 320,
   "id": "34c02f09-7c89-4b7b-bf77-9c890d32ecab",
   "metadata": {},
   "outputs": [],
   "source": [
    "observation_states = ['committed','ambivalent'] # A graduate student's dedication to their rotation lab\n",
    "    \n",
    "    # index annotation hidden_states=[i,j]\n",
    "hidden_states = ['R01','R21'] # The NIH funding source of the graduate student's rotation project \n",
    "\n",
    "    # PONDERING QUESTION: How would a user define/compute their own HMM instantiation inputs to decode the hidden states for their use case observations?\n",
    "use_case_one_data = np.load('./data/UserCase-Lecture.npz')\n",
    "\n",
    "    # Instantiate submodule class models.HiddenMarkovModel with\n",
    "    # observation and hidden states and prior, transition, and emission probabilities.\n",
    "use_case_one_hmm = HiddenMarkovModel(observation_states,\n",
    "                                         hidden_states,\n",
    "                      use_case_one_data['prior_probabilities'], # prior probabilities of hidden states in the order specified in the hidden_states list\n",
    "                      use_case_one_data['transition_probabilities'], # transition_probabilities[:,hidden_states[i]]\n",
    "                      use_case_one_data['emission_probabilities']) # emission_probabilities[hidden_states[i],:][:,observation_states[j]]\n",
    "    \n",
    "    # Instantiate submodule class models.ViterbiAlgorithm using the use case one HMM \n",
    "use_case_one_viterbi = ViterbiAlgorithm(use_case_one_hmm)"
   ]
  },
  {
   "cell_type": "code",
   "execution_count": 336,
   "id": "fb9837c3-2207-4d3c-9914-7e16f2a66314",
   "metadata": {},
   "outputs": [
    {
     "data": {
      "text/plain": [
       "2"
      ]
     },
     "execution_count": 336,
     "metadata": {},
     "output_type": "execute_result"
    }
   ],
   "source": [
    "len(use_case_one_hmm.observation_states)"
   ]
  },
  {
   "cell_type": "code",
   "execution_count": 337,
   "id": "2ecd8971-785d-4686-854d-efdeeb83827a",
   "metadata": {},
   "outputs": [
    {
     "data": {
      "text/plain": [
       "True"
      ]
     },
     "execution_count": 337,
     "metadata": {},
     "output_type": "execute_result"
    }
   ],
   "source": [
    "use_case_one_viterbi.hmm_object == use_case_one_hmm"
   ]
  },
  {
   "cell_type": "code",
   "execution_count": null,
   "id": "440bfd0e-3de9-41ec-94ec-08d7028e695c",
   "metadata": {},
   "outputs": [],
   "source": []
  }
 ],
 "metadata": {
  "kernelspec": {
   "display_name": "Python 3 (ipykernel)",
   "language": "python",
   "name": "python3"
  },
  "language_info": {
   "codemirror_mode": {
    "name": "ipython",
    "version": 3
   },
   "file_extension": ".py",
   "mimetype": "text/x-python",
   "name": "python",
   "nbconvert_exporter": "python",
   "pygments_lexer": "ipython3",
   "version": "3.9.12"
  }
 },
 "nbformat": 4,
 "nbformat_minor": 5
}
